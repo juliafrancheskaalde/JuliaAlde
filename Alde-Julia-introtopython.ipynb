{
 "cells": [
  {
   "cell_type": "markdown",
   "metadata": {},
   "source": [
    "190172, Alde, 2 BS ME"
   ]
  },
  {
   "cell_type": "code",
   "execution_count": 5,
   "metadata": {},
   "outputs": [],
   "source": [
    "#function that accepts 3 numbers and returns the average\n",
    "def three_number_average(first,second,third):\n",
    "    average= (first+second+third)/3\n",
    "    return average"
   ]
  },
  {
   "cell_type": "code",
   "execution_count": 6,
   "metadata": {},
   "outputs": [
    {
     "name": "stdout",
     "output_type": "stream",
     "text": [
      "Enter first number: 1\n",
      "Enter second number: 1\n",
      "Enter third number: 1\n",
      "The average is  1.0\n"
     ]
    }
   ],
   "source": [
    "#enter the 3 numbers\n",
    "first= float(input(\"Enter first number: \"))\n",
    "second= float(input(\"Enter second number: \"))\n",
    "third= float(input(\"Enter third number: \"))\n",
    "\n",
    "#compute for average\n",
    "average= three_number_average(first,second,third)\n",
    "\n",
    "#display average\n",
    "print(\"The average is \",average)"
   ]
  }
 ],
 "metadata": {
  "kernelspec": {
   "display_name": "Python 3",
   "language": "python",
   "name": "python3"
  },
  "language_info": {
   "codemirror_mode": {
    "name": "ipython",
    "version": 3
   },
   "file_extension": ".py",
   "mimetype": "text/x-python",
   "name": "python",
   "nbconvert_exporter": "python",
   "pygments_lexer": "ipython3",
   "version": "3.7.6"
  }
 },
 "nbformat": 4,
 "nbformat_minor": 4
}
