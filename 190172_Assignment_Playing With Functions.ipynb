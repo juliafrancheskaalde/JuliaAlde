{
 "cells": [
  {
   "cell_type": "markdown",
   "metadata": {},
   "source": [
    "**Playing with Functions**"
   ]
  },
  {
   "cell_type": "markdown",
   "metadata": {},
   "source": [
    "**1**\n",
    "\n",
    "Write a function that takes the circumference of a circle as a parameter and returns the area of that circle.\n",
    "\n",
    "Note: Assume the value of pi is 3.1416"
   ]
  },
  {
   "cell_type": "code",
   "execution_count": null,
   "metadata": {},
   "outputs": [],
   "source": [
    "pi= 3.1416\n",
    "\n",
    "#given circumference x, area= pi(x/(2*pi))**2\n",
    "y=lambda x: pi*(x/(2*pi))**2\n",
    "\n",
    "y(20)"
   ]
  },
  {
   "cell_type": "markdown",
   "metadata": {},
   "source": [
    "**2**\n",
    "\n",
    "Write a function that takes a 5-character string as a parameter and returns the string in reverse order.\n",
    "\n",
    "e.g. reverseString(\"Hello\") -> \"olleH\""
   ]
  },
  {
   "cell_type": "code",
   "execution_count": null,
   "metadata": {},
   "outputs": [],
   "source": [
    "word= input()\n",
    "\n",
    "def reverse(word):\n",
    "    i=4\n",
    "    while i>-1:\n",
    "        print(word[i],end=\"\")\n",
    "        i-=1\n",
    "\n",
    "reverse(word)"
   ]
  },
  {
   "cell_type": "markdown",
   "metadata": {},
   "source": [
    "**3**\n",
    "\n",
    "Write a function that takes a positive integer as input and returns the sum of all positive integers smaller than and including the number itself.\n",
    "\n",
    "e.g. backAddition(5) -> 1 + 2 + 3 + 4 + 5 -> 15"
   ]
  },
  {
   "cell_type": "code",
   "execution_count": null,
   "metadata": {},
   "outputs": [],
   "source": [
    "def back_add(n):\n",
    "    a=int(input())\n",
    "    sum=0\n",
    "    for i in range(0,a+1):\n",
    "        sum= sum+i\n",
    "    print(sum)\n",
    "\n",
    "back_add(n)"
   ]
  },
  {
   "cell_type": "markdown",
   "metadata": {},
   "source": [
    "**4**\n",
    "\n",
    "The sum of the squares of the first ten natural numbers is, 12 + 22 + ... + 102 = 385\n",
    "\n",
    "The square of the sum of the first ten natural numbers is, (1 + 2 + ... + 10)2 = 552 = 3025\n",
    "\n",
    "Hence the difference between the sum of the squares of the first ten natural numbers and the square of the sum is 3025 − 385 = 2640.\n",
    "\n",
    "Find the difference between the sum of the squares of the first one hundred natural numbers and the square of the sum.\n",
    "\n",
    "Show code that generates the answer."
   ]
  },
  {
   "cell_type": "code",
   "execution_count": null,
   "metadata": {},
   "outputs": [],
   "source": [
    "#sum of squares\n",
    "square=0\n",
    "for i in range (0,101):\n",
    "    square= (square+i**2)\n",
    "\n",
    "#square of sums\n",
    "sum=0\n",
    "for j in range(0,101):\n",
    "    sum= sum+j\n",
    "\n",
    "#difference\n",
    "print((sum**2)-square)"
   ]
  },
  {
   "cell_type": "markdown",
   "metadata": {},
   "source": [
    "**5**\n",
    "\n",
    "\n",
    "Write a function that allows a self-service Point of Sale system to give you the exact change when you pay in cash.\n",
    "\n",
    "The function should accept the number of cents entered by the caller of the function. It then should display the denominations of the coins that should be given to the buyer. The change should use as few coins as possible. Assume that the Point of Sale system is loaded with 1 cent, 5 cents, 10 cents, 25 cents and 1 peso coins.\n",
    "\n",
    "Write main program code that accepts the number of cents manually through user input and calls the function written above.\n",
    "\n",
    "Input: The program accepts one positive integer, cents, corresponding to the total change to be given by the Point of Sale system.\n",
    "\n",
    "Output: The number of 1 peso, 25 cents, 10 cents, 5 cents and 1 cent coins respectively. There should be one output per line.\n",
    "\n",
    "Sample Input 1:\n",
    "105\n",
    "\n",
    "Sample Output 1\n",
    "1\n",
    "0\n",
    "0\n",
    "1\n",
    "0\n",
    "\n",
    "Sample Input 2:\n",
    "69\n",
    "\n",
    "Sample Output 2:\n",
    "0\n",
    "2\n",
    "1\n",
    "1\n",
    "4"
   ]
  },
  {
   "cell_type": "code",
   "execution_count": null,
   "metadata": {},
   "outputs": [],
   "source": [
    "def cent_change(x):\n",
    "    change= int(input())\n",
    "    one_peso=0\n",
    "    twentyfive_cents=0\n",
    "    ten_cents=0\n",
    "    five_cents=0\n",
    "    one_cent=0\n",
    "    \n",
    "    while change>=100:\n",
    "        one_peso += 1\n",
    "        change-=100\n",
    "    \n",
    "    while change>=25:\n",
    "        twentyfive_cents+=1\n",
    "        change-=25\n",
    "    \n",
    "    while change>=10:\n",
    "        ten_cents+=1\n",
    "        change-=10\n",
    "    \n",
    "    while change>= 5:\n",
    "        five_cents+=1\n",
    "        change-=5\n",
    "        \n",
    "    while change>= 1:\n",
    "        one_cent+= 1\n",
    "        change-=1\n",
    "    \n",
    "    print (one_peso)\n",
    "    print (twentyfive_cents)\n",
    "    print(ten_cents)\n",
    "    print(five_cents)\n",
    "    print(one_cent)\n",
    "    \n",
    "cent_change(x)"
   ]
  },
  {
   "cell_type": "code",
   "execution_count": null,
   "metadata": {},
   "outputs": [],
   "source": []
  }
 ],
 "metadata": {
  "kernelspec": {
   "display_name": "Python 3",
   "language": "python",
   "name": "python3"
  },
  "language_info": {
   "codemirror_mode": {
    "name": "ipython",
    "version": 3
   },
   "file_extension": ".py",
   "mimetype": "text/x-python",
   "name": "python",
   "nbconvert_exporter": "python",
   "pygments_lexer": "ipython3",
   "version": "3.7.6"
  }
 },
 "nbformat": 4,
 "nbformat_minor": 4
}
