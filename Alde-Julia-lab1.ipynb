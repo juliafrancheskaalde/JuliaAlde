{
 "cells": [
  {
   "cell_type": "markdown",
   "metadata": {},
   "source": [
    "190172, Alde, 2 BS ME"
   ]
  },
  {
   "cell_type": "code",
   "execution_count": 18,
   "metadata": {},
   "outputs": [
    {
     "name": "stdout",
     "output_type": "stream",
     "text": [
      "Enter the amount in US Dollars: 1\n",
      "1 US dollar(s)= 50 Philippine Pesos\n"
     ]
    }
   ],
   "source": [
    "#PROBLEM 1\n",
    "\n",
    "#function that accepts USD & returns PHP\n",
    "def dollars_to_pesos(us_dollar_amount,philippine_peso_amount):\n",
    "    philippine_peso_amount= us_dollar_amount*50\n",
    "    return philippine_peso_amount\n",
    "\n",
    "us_dollar_amount = int(input(\"Enter the amount in US Dollars: \"))\n",
    "\n",
    "#convert\n",
    "philippine_peso_amount= dollars_to_pesos(us_dollar_amount,philippine_peso_amount)\n",
    "\n",
    "#display\n",
    "print(us_dollar_amount,\"US dollar(s)=\",philippine_peso_amount,\"Philippine Pesos\")"
   ]
  },
  {
   "cell_type": "code",
   "execution_count": 28,
   "metadata": {},
   "outputs": [
    {
     "name": "stdout",
     "output_type": "stream",
     "text": [
      "55\n",
      "3\n",
      "58\n",
      "52\n",
      "165\n",
      "18\n",
      "1\n"
     ]
    }
   ],
   "source": [
    "#PROBLEM 2\n",
    "\n",
    "#math module\n",
    "import math\n",
    "\n",
    "#accepts 2 positive integers\n",
    "a= int(input())\n",
    "b= int(input())\n",
    "\n",
    "#first line: sum\n",
    "print(int(math.fabs(a+b)))\n",
    "\n",
    "#second line: difference\n",
    "print(int(math.fabs(b-a)))\n",
    "\n",
    "#third line: product\n",
    "print(int(math.fabs(a*b)))\n",
    "\n",
    "#fourth line: quotient w/o remainder\n",
    "print(int(math.fabs(a//b)))\n",
    "\n",
    "#fifth line: remainder\n",
    "print(int(math.fabs(a%b)))"
   ]
  },
  {
   "cell_type": "code",
   "execution_count": 45,
   "metadata": {},
   "outputs": [
    {
     "name": "stdout",
     "output_type": "stream",
     "text": [
      "Enter kg: 70\n",
      "Enter cm: 170\n",
      "BMI:  24.221453287197235\n"
     ]
    }
   ],
   "source": [
    "#PROBLEM 3\n",
    "\n",
    "#math module\n",
    "import math\n",
    "\n",
    "#converting cm to m\n",
    "def convert_cm_to_m (cm):\n",
    "    m = cm/100\n",
    "    return m\n",
    "\n",
    "#formula that computes BMI\n",
    "def compute_bmi(kg,m):\n",
    "    BMI = kg/math.pow(m,2)\n",
    "    return BMI\n",
    "\n",
    "#ask for user details\n",
    "kg= float(input(\"Enter kg: \"))\n",
    "m= convert_cm_to_m(float (input(\"Enter cm: \")))\n",
    "\n",
    "#compute\n",
    "computed_bmi= compute_bmi(kg,m)\n",
    "\n",
    "#display results\n",
    "print(\"BMI: \",computed_bmi)\n"
   ]
  }
 ],
 "metadata": {
  "kernelspec": {
   "display_name": "Python 3",
   "language": "python",
   "name": "python3"
  },
  "language_info": {
   "codemirror_mode": {
    "name": "ipython",
    "version": 3
   },
   "file_extension": ".py",
   "mimetype": "text/x-python",
   "name": "python",
   "nbconvert_exporter": "python",
   "pygments_lexer": "ipython3",
   "version": "3.7.6"
  }
 },
 "nbformat": 4,
 "nbformat_minor": 4
}
