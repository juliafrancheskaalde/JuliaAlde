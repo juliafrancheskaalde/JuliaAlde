{
 "cells": [
  {
   "cell_type": "code",
   "execution_count": 2,
   "metadata": {},
   "outputs": [
    {
     "name": "stdout",
     "output_type": "stream",
     "text": [
      "<class 'dict'>\n"
     ]
    }
   ],
   "source": [
    " products = { \n",
    "    \"americano\":{\"name\":\"Americano\",\"price\":150.00},\n",
    "    \"brewedcoffee\":{\"name\":\"Brewed Coffee\",\"price\":110.00},\n",
    "    \"cappuccino\":{\"name\":\"Cappuccino\",\"price\":170.00},\n",
    "    \"dalgona\":{\"name\":\"Dalgona\",\"price\":170.00},\n",
    "    \"espresso\":{\"name\":\"Espresso\",\"price\":140.00},\n",
    "    \"frappuccino\":{\"name\":\"Frappuccino\",\"price\":170.00},\n",
    "}\n",
    "    \n",
    "print(type(products))"
   ]
  },
  {
   "cell_type": "markdown",
   "metadata": {},
   "source": [
    "**1. product information lookup function (3 points)**\n",
    "\n",
    "Write a function get_product(code) where code is the key of the product information in the products dictionary. The function should return the dictionary containing the specific product information. For example:\n",
    "\n",
    "get_product(\"espresso\")\n",
    "\n",
    "should yield\n",
    "\n",
    "{\"name\":\"Espresso\",\"price\":140.00}"
   ]
  },
  {
   "cell_type": "code",
   "execution_count": 32,
   "metadata": {},
   "outputs": [
    {
     "data": {
      "text/plain": [
       "{'name': 'Espresso', 'price': 140.0}"
      ]
     },
     "execution_count": 32,
     "metadata": {},
     "output_type": "execute_result"
    }
   ],
   "source": [
    "def get_product(code):\n",
    "    info= products.get(code)\n",
    "    return info\n",
    "    \n",
    "get_product(code)"
   ]
  },
  {
   "cell_type": "markdown",
   "metadata": {},
   "source": [
    "2. retrieve product attributes (2 points)\n",
    "\n",
    "a. Write one line of code that calls get_product(code) and evaluates to the price of that product.\n"
   ]
  },
  {
   "cell_type": "code",
   "execution_count": 49,
   "metadata": {},
   "outputs": [
    {
     "data": {
      "text/plain": [
       "170.0"
      ]
     },
     "execution_count": 49,
     "metadata": {},
     "output_type": "execute_result"
    }
   ],
   "source": [
    "get_product(code).get(\"price\")"
   ]
  },
  {
   "cell_type": "markdown",
   "metadata": {},
   "source": [
    "b. Write one line of code that calls get_product(code) and evaluates to the name of that product.\n",
    "\n",
    "You may include your one line of code inside a function that returns the name. The function definition and the return statements are excluded from the count."
   ]
  },
  {
   "cell_type": "code",
   "execution_count": 50,
   "metadata": {},
   "outputs": [
    {
     "data": {
      "text/plain": [
       "'Brewed Coffee'"
      ]
     },
     "execution_count": 50,
     "metadata": {},
     "output_type": "execute_result"
    }
   ],
   "source": [
    "get_product(code).get(\"name\")"
   ]
  },
  {
   "cell_type": "markdown",
   "metadata": {},
   "source": [
    "**2. Point-of-Sale Terminal (5 points)**\n",
    "\n",
    "Write a function main that asks for orders of food from a customer. The system should ask for the following:\n",
    "\n",
    "Product Code (assume that the clerk has memorized the product codes)\n",
    "Quantity\n",
    "The system then must update an electronic food tray (which is just a fancy term for a list of items ordered). Implement the food tray as a list of ordered items, each of which is a dictionary containing the following key-value pairs:\n",
    "\n",
    "product_code,\n",
    "quantity\n",
    "subtotal (which is just the quantity multiplied by the price of the product)\n",
    "Design your program such that food_tray is a variable of the main function for now. We will deal with better software design later on. In any case, if any of your functions need to work on the food_tray, pass it as a parameter.\n",
    "\n",
    "The system must compute the subtotal before appending to the food tray.\n",
    "\n",
    "The system must be able to determine if the customer is done with his/her order. Once done, the system notifies the clerk/user of the grand total.\n",
    "\n",
    "The system then prints out the receipt (for now, just show it appear in the notebook), after which it is ready to process the next customer order. Make sure to clear out the food_tray after each successful order.\n",
    "\n",
    "Bonus (2 points): Format the receipt output using various print formatting options. You will have to do research on this."
   ]
  },
  {
   "cell_type": "code",
   "execution_count": 124,
   "metadata": {},
   "outputs": [],
   "source": [
    "def add_to_tray(food_tray, ordered_item):\n",
    "    food_tray.append(ordered_item)\n",
    "def generate_receipt(food_tray):\n",
    "    subtotal_sum=[]\n",
    "    for i in food_tray:\n",
    "        code= i[\"code\"]\n",
    "        name= get_product(code).get(\"name\")\n",
    "        qty= i[\"qty\"]\n",
    "        subtotal= i[\"subtotal\"]\n",
    "        subtotal_sum.append(subtotal)\n",
    "        print(code,name,\"\\t\",str(qty), \"{:>16}\".format(str(subtotal)))\n",
    "    total=sum(subtotal_sum)\n",
    "    print(\"Total: \\t\",\"{:>34}\".format(total))\n",
    "    print(\"-------------------------------------------\")\n",
    "\n",
    "def main():    \n",
    "    food_tray = []\n",
    "    command = \"N\"\n",
    "    while(True):\n",
    "        command = input(\"Options: N-New customer, Q-Quit \")\n",
    "        if(command.upper()==\"Q\"):\n",
    "            break\n",
    "        else:\n",
    "            more = \"Y\"\n",
    "            while(more==\"Y\"):\n",
    "                code = input(\"Enter Product Code: \")\n",
    "                qty = int(input(\"Enter Quantity: \"))\n",
    "                print(code + \": \"+str(qty))\n",
    "                ordered_item = dict()\n",
    "                ordered_item[\"code\"] = code\n",
    "                ordered_item[\"qty\"] = qty\n",
    "                ordered_item[\"subtotal\"] = int(qty) * (get_product(code).get(\"price\"))\n",
    "                \n",
    "                add_to_tray(food_tray,ordered_item)\n",
    "                \n",
    "                more = input(\"Add more items? (Y/N): \").upper()\n",
    "        print(\"-------------------------------------------\")       \n",
    "        \n",
    "        generate_receipt(food_tray)\n",
    "        food_tray = [] \n",
    "        \n",
    "        \n",
    "    print(\"Exiting CoffeePython POS Terminal. Have a great day.\")"
   ]
  },
  {
   "cell_type": "code",
   "execution_count": null,
   "metadata": {},
   "outputs": [],
   "source": [
    "main()"
   ]
  },
  {
   "cell_type": "code",
   "execution_count": null,
   "metadata": {},
   "outputs": [],
   "source": []
  }
 ],
 "metadata": {
  "kernelspec": {
   "display_name": "Python 3",
   "language": "python",
   "name": "python3"
  },
  "language_info": {
   "codemirror_mode": {
    "name": "ipython",
    "version": 3
   },
   "file_extension": ".py",
   "mimetype": "text/x-python",
   "name": "python",
   "nbconvert_exporter": "python",
   "pygments_lexer": "ipython3",
   "version": "3.7.6"
  }
 },
 "nbformat": 4,
 "nbformat_minor": 4
}
