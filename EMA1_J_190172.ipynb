{
 "cells": [
  {
   "cell_type": "code",
   "execution_count": 57,
   "metadata": {},
   "outputs": [
    {
     "name": "stdout",
     "output_type": "stream",
     "text": [
      "Enter number of rows: 10\n",
      "1 1\n",
      "2 4\n",
      "3 9\n",
      "4 16\n",
      "5 25\n",
      "6 36\n",
      "7 49\n",
      "8 64\n",
      "9 81\n"
     ]
    }
   ],
   "source": [
    "#PROBLEM 1\n",
    "\n",
    "row=int(input(\"Enter number of rows: \"))\n",
    "\n",
    "for i in range(1,row):\n",
    "    print(i, i*i)\n",
    "    i+=1\n",
    "    "
   ]
  },
  {
   "cell_type": "code",
   "execution_count": 85,
   "metadata": {},
   "outputs": [
    {
     "name": "stdout",
     "output_type": "stream",
     "text": [
      "Day: 2\n",
      "Month: 2\n",
      "Year: 2020\n",
      "It is the  2 nd day of the month of February of the year 2020\n"
     ]
    }
   ],
   "source": [
    "#PROBLEM 2\n",
    "day= int(input(\"Day: \"))\n",
    "month= int(input(\"Month: \")) \n",
    "year= int(input(\"Year: \"))  \n",
    "\n",
    "after=\"th\"\n",
    "if day==1 or day==11 or day==21 or day==31:\n",
    "    after=\"st\"\n",
    "elif day==2 or day==12 or day==22:\n",
    "    after=\"nd\"\n",
    "elif day==3 or day==13 or day==23:\n",
    "    after=\"rd\"\n",
    "    \n",
    "if month==(1 or 3 or 5 or 7 or 8 or 10 or 12)and day>31:\n",
    "    print(\"Date is not valid\")\n",
    "elif month==(4 or 6 or 9 or 11) and day >=30:\n",
    "    print (\"Date is not valid\")\n",
    "elif month==2 and day>=30:\n",
    "    print(\"Date is not valid.\")\n",
    "elif month==2 and day==28:\n",
    "    if month==2:\n",
    "        month=\"February\"\n",
    "    print(\"It is the \",day,after,\"day of the month of\", month, \"of the year\",year)\n",
    "elif month == 2 and day==29:\n",
    "    if year%4==0:\n",
    "        if month ==2:\n",
    "            month= \"February\"\n",
    "        if year%100==0:\n",
    "            if year%400==0:\n",
    "                if month==2:\n",
    "                    month=\"February\"\n",
    "                print(\"It is the \",day,after,\"day of the month of\", month, \"of the year\",year)\n",
    "            else:\n",
    "                print(\"Date is not valid\")\n",
    "    else:\n",
    "        print(\"Date is not valid.\")\n",
    "else:\n",
    "    if month ==1:\n",
    "        month= \"January\"\n",
    "    elif month ==2:\n",
    "        month=\"February\"\n",
    "    elif month ==3:\n",
    "        month=\"March\"\n",
    "    elif month ==4:\n",
    "        month=\"April\"\n",
    "    elif month ==5:\n",
    "        print(\"May\")\n",
    "    elif month ==6:\n",
    "        month=\"June\"\n",
    "    elif month ==7:\n",
    "        month=\"July\"\n",
    "    elif month ==8:\n",
    "        month=\"August\"\n",
    "    elif month ==9:\n",
    "        month=\"September\"\n",
    "    elif month ==10:\n",
    "        month=\"October\"\n",
    "    elif month ==11:\n",
    "        month=\"November\"\n",
    "    elif month ==12:\n",
    "        month=\"December\"\n",
    "print(\"It is the \",day,after,\"day of the month of\", month, \"of the year\",year,\".\")"
   ]
  },
  {
   "cell_type": "code",
   "execution_count": 76,
   "metadata": {
    "scrolled": true
   },
   "outputs": [
    {
     "name": "stdout",
     "output_type": "stream",
     "text": [
      "123\n",
      "True\n"
     ]
    }
   ],
   "source": [
    "#PROBLEM 3\n",
    "import math\n",
    "\n",
    "#account for the coefficient\n",
    "def obedient(x):\n",
    "    s= (x+(x+1)+(x+2))\n",
    "    if True:\n",
    "        print(\"True\")\n",
    "    else:\n",
    "        print(\"False\")\n",
    "\n",
    "s= int(input())\n",
    "obedient(s)"
   ]
  },
  {
   "cell_type": "code",
   "execution_count": 77,
   "metadata": {
    "scrolled": true
   },
   "outputs": [
    {
     "name": "stdout",
     "output_type": "stream",
     "text": [
      "5\n",
      "9 \n",
      "1 2 3 4 5 6 7 8 10 \n",
      "2 4 6 8 10 12 14 16 11 \n",
      "3 6 9 12 15 18 21 24 12 \n",
      "4 8 12 16 20 24 28 32 13 \n",
      "5 10 15 20 25 30 35 40 "
     ]
    }
   ],
   "source": [
    "#PROBLEM 4\n",
    "n=int(input())\n",
    "for i in range(1,n+1):\n",
    "    print(i+j,end=\" \")\n",
    "    print()\n",
    "    for j in range(1,size+1):\n",
    "        print(i*j,end=\" \")\n",
    "        "
   ]
  },
  {
   "cell_type": "code",
   "execution_count": 83,
   "metadata": {},
   "outputs": [
    {
     "name": "stdout",
     "output_type": "stream",
     "text": [
      "Do you prefer (a)the mountains, (b)the city, or (c) the beach?1\n",
      "Do you prefer (a)yoghurt, (b)ice cream, or (c) gelato?b\n",
      "Do you prefer (a)reading, (b) singing, or (c)writing?b\n",
      "Do you prefer (a)sweet, (b)salty, or (c)spicy food?b\n",
      "Do you prefer (a)cats, (b)dogs, or (c)fish?b\n"
     ]
    },
    {
     "ename": "NameError",
     "evalue": "name 'b' is not defined",
     "output_type": "error",
     "traceback": [
      "\u001b[0;31m---------------------------------------------------------------------------\u001b[0m",
      "\u001b[0;31mNameError\u001b[0m                                 Traceback (most recent call last)",
      "\u001b[0;32m<ipython-input-83-b0f8f98b8d18>\u001b[0m in \u001b[0;36m<module>\u001b[0;34m\u001b[0m\n\u001b[1;32m     10\u001b[0m     \u001b[0;32mif\u001b[0m \u001b[0mQ1\u001b[0m\u001b[0;34m==\u001b[0m\u001b[0ma\u001b[0m\u001b[0;34m:\u001b[0m\u001b[0;34m\u001b[0m\u001b[0;34m\u001b[0m\u001b[0m\n\u001b[1;32m     11\u001b[0m         \u001b[0mprint\u001b[0m\u001b[0;34m(\u001b[0m\u001b[0;34m\"fire\"\u001b[0m\u001b[0;34m)\u001b[0m\u001b[0;34m\u001b[0m\u001b[0;34m\u001b[0m\u001b[0m\n\u001b[0;32m---> 12\u001b[0;31m     \u001b[0;32melif\u001b[0m \u001b[0mQ1\u001b[0m\u001b[0;34m==\u001b[0m\u001b[0mb\u001b[0m\u001b[0;34m:\u001b[0m\u001b[0;34m\u001b[0m\u001b[0;34m\u001b[0m\u001b[0m\n\u001b[0m\u001b[1;32m     13\u001b[0m         \u001b[0mprint\u001b[0m\u001b[0;34m(\u001b[0m\u001b[0;34m\"earth\"\u001b[0m\u001b[0;34m)\u001b[0m\u001b[0;34m\u001b[0m\u001b[0;34m\u001b[0m\u001b[0m\n\u001b[1;32m     14\u001b[0m     \u001b[0;32melif\u001b[0m \u001b[0mQ1\u001b[0m\u001b[0;34m==\u001b[0m\u001b[0mc\u001b[0m\u001b[0;34m:\u001b[0m\u001b[0;34m\u001b[0m\u001b[0;34m\u001b[0m\u001b[0m\n",
      "\u001b[0;31mNameError\u001b[0m: name 'b' is not defined"
     ]
    }
   ],
   "source": [
    "#PROBLEM 5\n",
    "\n",
    "Q1= input(\"Do you prefer (a)the mountains, (b)the city, or (c) the beach?\") \n",
    "Q2= input(\"Do you prefer (a)yoghurt, (b)ice cream, or (c) gelato?\")\n",
    "Q3= input(\"Do you prefer (a)reading, (b) singing, or (c)writing?\")\n",
    "Q4= input(\"Do you prefer (a)sweet, (b)salty, or (c)spicy food?\")\n",
    "Q5= input(\"Do you prefer (a)cats, (b)dogs, or (c)fish?\")\n",
    "\n",
    "while(True):\n",
    "    if Q1==a:\n",
    "        print(\"fire\")\n",
    "    elif Q1==b:\n",
    "        print(\"earth\")\n",
    "    elif Q1==c:\n",
    "        print(\"water\")\n",
    "    else:\n",
    "        print(\"Sorry, you inputted a wrong letter. Please start again.\")\n",
    "    break\n",
    "    \n",
    "while(True):\n",
    "    if Q2==a:\n",
    "        print(\"earth\")\n",
    "    elif Q2==b:\n",
    "        print(\"water\")\n",
    "    elif Q1==c:\n",
    "        print(\"fire\")\n",
    "    else:\n",
    "        print(\"Sorry, you inputted a wrong letter. Please start again.\")\n",
    "    break\n",
    "\n",
    "while(True):\n",
    "    if Q3==a:\n",
    "        print(\"water\")\n",
    "    elif Q3==b:\n",
    "        print(\"fire\")\n",
    "    elif Q3==c:\n",
    "        print(\"earth\")\n",
    "    else:\n",
    "        print(\"Sorry, you inputted a wrong letter. Please start again.\")\n",
    "    break\n",
    "\n",
    "while(True):\n",
    "    if Q4==a:\n",
    "        print(\"earth\")\n",
    "    elif Q4==b:\n",
    "        print(\"water\")\n",
    "    elif Q4==c:\n",
    "        print(\"fire\")\n",
    "    else:\n",
    "        print(\"Sorry, you inputted a wrong letter. Please start again.\")\n",
    "    break\n",
    "\n",
    "while(True):\n",
    "    if Q5==a:\n",
    "        print(\"earth\")\n",
    "    elif Q5==b:\n",
    "        print(\"fire\")\n",
    "    elif Q5==c:\n",
    "        print(\"water\")\n",
    "    else:\n",
    "        print(\"Sorry, you inputted a wrong letter. Please start again.\")\n",
    "    break"
   ]
  },
  {
   "cell_type": "code",
   "execution_count": null,
   "metadata": {},
   "outputs": [],
   "source": []
  }
 ],
 "metadata": {
  "kernelspec": {
   "display_name": "Python 3",
   "language": "python",
   "name": "python3"
  }
 },
 "nbformat": 4,
 "nbformat_minor": 4
}
