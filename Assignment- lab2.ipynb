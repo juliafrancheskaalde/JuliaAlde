{
 "cells": [
  {
   "cell_type": "markdown",
   "metadata": {},
   "source": [
    "**1A- Solid Rectangle**\n",
    "\n",
    "This function prints a solid rectangle composed of asterisks (\\\"*\\\").\n",
    "\n",
    "This rectangle should be of the specified width and the specified height.\n",
    "\n",
    "This function does not return any value; it simply prints the rectangle string."
   ]
  },
  {
   "cell_type": "code",
   "execution_count": null,
   "metadata": {},
   "outputs": [],
   "source": [
    "def print_rectangle(length, width):\n",
    "    i=0\n",
    "    while i<width:\n",
    "        j=0\n",
    "        while j<length:\n",
    "            print(\"*\", end=\"\")\n",
    "            j+=1\n",
    "        print()\n",
    "        i+=1\n",
    "length= int(input(\"length: \"))\n",
    "width= int(input(\"width: \"))\n",
    "print_rectangle(length,width)"
   ]
  },
  {
   "cell_type": "markdown",
   "metadata": {},
   "source": [
    "**1B - Hollow Rectangle**\n",
    "\n",
    "This function prints a hollow rectangle composed of asterisks (*).\n",
    "\n",
    "The borders of this rectangle are composed of asterisks (\\\"*\\\").\n",
    "\n",
    "The insides of this rectangle are composed of spaces (\" \").\n",
    "\n",
    "This rectangle should be of the specified width and the specified height.\n",
    "\n",
    "This function does not return any value; it simply prints the rectangle string.\n"
   ]
  },
  {
   "cell_type": "code",
   "execution_count": null,
   "metadata": {},
   "outputs": [],
   "source": [
    "def hollow(height,length):\n",
    "    for i in range(1,height+1):\n",
    "        for j in range (1, length+1):\n",
    "            if i==1 or i==height or j==1 or j==length:\n",
    "                print(\"*\", end=\" \")\n",
    "            else:\n",
    "                print(\" \",end=\" \")\n",
    "        print()\n",
    "\n",
    "height= int(input(\"Enter height: \"))\n",
    "length= int(input(\"Enter length/width: \"))\n",
    "hollow(height,length)"
   ]
  },
  {
   "cell_type": "markdown",
   "metadata": {},
   "source": [
    "**2- Ceasar Cipher**\n",
    "\n",
    "This function encrypts a message using the Caesar cipher method.\n",
    "\n",
    "The Caesar cipher \"shifts\" each letter in a message to the right by a specified number.\n",
    "\n",
    "\n",
    "1. ask for message (convert to a list)\n",
    "2. ask for how many times to shift letter\n",
    "3. get the index of each of the elements in the message list compare it to the index of that letter in the alphabet\n",
    "4. shift each letter by the number entered in #2\n",
    "5. loop until all elements are shifted\n",
    "6. print encrypted message"
   ]
  },
  {
   "cell_type": "code",
   "execution_count": null,
   "metadata": {},
   "outputs": [],
   "source": [
    "def ceasar_cipher(message,s):\n",
    "    for n in message:\n",
    "        if (ord(n)+s)>=26:\n",
    "            print((chr((ord(n)+s-65)%26+65)),end=\"\")\n",
    "        else:\n",
    "            print (chr(ord(n)+s),end=\"\")\n",
    "message= (input(\"MESSAGE: \").upper())\n",
    "s= int(input(\"NUMBER: \"))        \n",
    "ceasar_cipher(message,s)"
   ]
  },
  {
   "cell_type": "markdown",
   "metadata": {},
   "source": [
    "**3- Vigenere Cipher**\n",
    "\n",
    "This function encrypts a message using the Vigenere cipher method.\n",
    "\n",
    "The Vigenere cipher is an extension of the Caesar cipher method. Instead of using a uniform number, the Vigenere cipher uses a keyword to shift letters.\n",
    "\n",
    "Example:\n",
    "\n",
    "vigenere_encrypt('ABC', 'KEY') -> 'KFA'"
   ]
  },
  {
   "cell_type": "code",
   "execution_count": null,
   "metadata": {},
   "outputs": [],
   "source": [
    "def vignere(message,key):\n",
    "    list=[]\n",
    "    keyz=[]\n",
    "    sumset=[]\n",
    "    for i in message:\n",
    "        x= ord(i)-65\n",
    "        list.append(x)\n",
    "    for i in key:\n",
    "        y= (ord(i))-65\n",
    "        keyz.append(y)\n",
    "    for i in range(len(list)):   \n",
    "        sum=list[i]+keyz[i]\n",
    "        if sum>=26:\n",
    "            z=sum-26\n",
    "            sumset.append(z)\n",
    "        else: \n",
    "            sumset.append(sum)\n",
    "    for i in sumset:\n",
    "        code= chr(i+65)\n",
    "        print(code,end=\"\")\n",
    "\n",
    "message= input(\"enter message: \")\n",
    "key= input('enter key: ')\n",
    "vignere(message,key)"
   ]
  },
  {
   "cell_type": "markdown",
   "metadata": {},
   "source": [
    "**4- Contact Tracing**\n",
    "\n",
    "This function simulates tracing an infected person and marking people they come into contact with.\n",
    "\n",
    "Rules of the Game\n",
    "1. The simulation starts with a single infected person (infected_person).\n",
    "\n",
    "2. The people in this game \"move\". These movements are represented by strings.\n",
    "\n",
    "3. Each person that an infected person comes into contact with will become infected in the next round.\n",
    "\n",
    "Write a function that takes an initial infected person as its first parameter and a list of movements as its second parameter. The function should return the final list of infected."
   ]
  },
  {
   "cell_type": "code",
   "execution_count": 54,
   "metadata": {},
   "outputs": [
    {
     "name": "stdout",
     "output_type": "stream",
     "text": [
      "ACBDE,CADEB,DBACE\n",
      "C\n",
      "{'A', 'B'}\n",
      "['C', 'A', 'B']\n",
      "{'A'}\n",
      "['C', 'A', 'B', 'A']\n",
      "{'E', 'A'}\n",
      "['C', 'A', 'B', 'A', 'E', 'A']\n"
     ]
    },
    {
     "data": {
      "text/plain": [
       "['C', 'A', 'B', 'A', 'E', 'A']"
      ]
     },
     "execution_count": 54,
     "metadata": {},
     "output_type": "execute_result"
    }
   ],
   "source": [
    "def infection(initial_infected,movements):\n",
    "    mlist= str(movements) #must convert the tuple into a string\n",
    "    mvmts= mlist.split(\",\") # split the string into elements in a list\n",
    "    i=0\n",
    "    final_infected=[initial_infected]\n",
    "    while i< len(mvmts): #each element represents a round\n",
    "        round_mvmt= mvmts[i] #each round has a list of movements\n",
    "        next_round_infected= set() #will add the elements that get infected by the initial here\n",
    "        end_element= round_mvmt[len(round_mvmt)-1]\n",
    "        first_element=round_mvmt[0]\n",
    "        infected_index= round_mvmt.index(initial_infected) #index of the initial infected of every round\n",
    "        for j in round_mvmt:\n",
    "            #if j is not at the ends (middle)\n",
    "            if round_mvmt.index(j)> 0 and round_mvmt.index(j)< (len(round_mvmt)-1):\n",
    "                if j in initial_infected and (round_mvmt[round_mvmt.index(j)+1],round_mvmt[round_mvmt.index(j)-1]) not in final_infected:\n",
    "                    next_round_infected.add(round_mvmt[infected_index-1])\n",
    "                    next_round_infected.add(round_mvmt[infected_index+1])\n",
    "                elif j in initial_infected and round_mvmt[round_mvmt.index(j)+1] not in final_infected:\n",
    "                    next_round_infected.add(round_mvmt[infected_index+1])\n",
    "                elif j in initial_infected and round_mvmt[round_mvmt.index(j)-1] not in final_infected:\n",
    "                    next_round_infected.add(round_mvmt[infected_index-1])\n",
    "                else:\n",
    "                    continue\n",
    "            #if infected is the first element\n",
    "            elif j==first_element and j==initial_infected:\n",
    "                next_round_infected.add(round_mvmt[1])\n",
    "            #if infected is the last element\n",
    "            elif j==end_element and j==initial_infected:\n",
    "                next_round_infected.add(round_mvmt[len(round_mvmt)-2])\n",
    "        print(next_round_infected)\n",
    "        final_infected.extend(next_round_infected)\n",
    "        print(final_infected)\n",
    "        i+=1\n",
    "    return final_infected\n",
    "    \n",
    "movements=input()\n",
    "initial_infected=input()\n",
    "infection(initial_infected,movements)"
   ]
  },
  {
   "cell_type": "code",
   "execution_count": null,
   "metadata": {},
   "outputs": [],
   "source": [
    "def infection(initial_infected,movements):\n",
    "    mlist= str(movements) #must convert the tuple into a string\n",
    "    mvmts= mlist.split(\",\") # split the string into elements in a list\n",
    "    i=0\n",
    "    final_infected=[initial_infected]\n",
    "    while i< len(mvmts): #each element represents a round\n",
    "        round_mvmt= mvmts[i] #each round has a list of movements\n",
    "        next_round_infected= set() #will add the elements that get infected by the initial here\n",
    "        initial_infected= input(\"Enter initial infected: \")\n",
    "        infected_index= round_mvmt.index(initial_infected) #index of the initial infected of every round\n",
    "        for j in round_mvmt:\n",
    "            if round_mvmt.index(j)==0 and round_mvmt[0] not in final_infected: \n",
    "                next_round_infected.add(round_mvmt[0])\n",
    "            #if the element at the end is clean, we infect it & add it to the set\n",
    "            elif j==round_mvmt.index(j)== (len(round_mvmt)+1) and round_mvmt[len(round_mvmt)+1]not in final_infected:\n",
    "                next_round_infected.add(round_mvmt[len(round_mvmt)+1])\n",
    "            #if the elements beside the infected are clean, we infect them & add them to the set\n",
    "            elif j==round_mvmt[infected_index-1] not in final_infected:\n",
    "                next_round_infected.add(round_mvmt[infected_index-1])\n",
    "            elif j==round_mvmt[infected_index+1] not in final_infected:\n",
    "                next_round_infected.add(round_mvmt[infected_index+1])\n",
    "            #if the element at the start is clean, we infect it & add it to the set\n",
    "        print(next_round_infected)\n",
    "        final_infected.extend(next_round_infected)\n",
    "        print(final_infected)\n",
    "        i+=1\n",
    "    return final_infected\n",
    "    \n",
    "movements=input()\n",
    "infection(initial_infected,movements)"
   ]
  },
  {
   "cell_type": "code",
   "execution_count": 13,
   "metadata": {},
   "outputs": [
    {
     "name": "stdout",
     "output_type": "stream",
     "text": [
      "LMcSEDJfZAqbWRUgYeurIdtzKoihOxBmkQjFlpvNwXyPnCasGHVT\n",
      "ihpSPvorENDadfcyjnqlmgHWxTCKGIUkeOZzMJXYsuAwVbLRQBFt\n",
      "qepTuMENGwDztARCImQhiJXfnWbcaVvyrLsZjdYKSFBHPoxglOkU\n",
      "['C', 'a', 'n', 'K', 'T', 'd', 'D', 'q', 'j', 'I', 'R', 'V', 'c', 'W', 'f', 'S', 'Y', 'u', 'p', 'z', 'w', 'e', 'Z']"
     ]
    }
   ],
   "source": [
    "initial_infected = 'C'\n",
    "\n",
    "movement_list = ['LMcSEDJfZAqbWRUgYeurIdtzKoihOxBmkQjFlpvNwXyPnCasGHVT',\n",
    "                 \n",
    "                'ihpSPvorENDadfcyjnqlmgHWxTCKGIUkeOZzMJXYsuAwVbLRQBFt',\n",
    "                 \n",
    "                'qepTuMENGwDztARCImQhiJXfnWbcaVvyrLsZjdYKSFBHPoxglOkU']\n",
    "\n",
    "def trace(initial_infected, movement_list):\n",
    "    final_infected = []\n",
    "    i=0\n",
    "    round_count=1\n",
    "    nextround=[]\n",
    "    all_move=movement_list[0]\n",
    "    final_infected.append(initial_infected) \n",
    "    while round_count <=3: \n",
    "        len_infected=len(final_infected)    \n",
    "        len_population=len(all_move)         \n",
    "        if i < len_infected:                         \n",
    "            letter=final_infected[i]        \n",
    "            index=all_move.index(letter)    \n",
    "            if index>0 and index<len_population: \n",
    "                #infect left & right\n",
    "                if (all_move[index+1] not in final_infected and all_move[index+1] not in nextround) and (all_move[index-1] not in final_infected and all_move[index-1] not in nextround):\n",
    "                    nextround.append(all_move[index+1])\n",
    "                    nextround.append(all_move[index-1])\n",
    "                    i+=1\n",
    "                #infect right\n",
    "                elif (all_move[index+1] not in final_infected and all_move[index+1] not in nextround) and ((all_move[index-1] in final_infected) or (all_move[index-1] in nextround)):\n",
    "                    nextround.append(all_move[index+1])\n",
    "                    i+=1        \n",
    "                #infect left\n",
    "                elif (all_move[index-1] not in final_infected and all_move[index-1] not in nextround) and ((all_move[index+1] in final_infected) or (all_move[index+1] in nextround)):\n",
    "                    nextround.append(all_move[index-1])\n",
    "                    i+=1     \n",
    "                #else: if left & right are infected, move to next round\n",
    "                else:\n",
    "                    i+=1  \n",
    "            elif index==len_population: #if an infected is at the end\n",
    "                if all_move[index-1] not in final_infected and all_move[index-1] not in nextround:\n",
    "                    nextround.append(all_move[index-1])                      \n",
    "                    i+=1\n",
    "                else:\n",
    "                    i+=1     \n",
    "            elif index==0: #if infected is at the start\n",
    "                if all_move[index+1] not in final_infected and all_move[index+1] not in nextround:\n",
    "                    nextround.append(all_move[index+1])\n",
    "                    i+=1\n",
    "                else:\n",
    "                    i+=1\n",
    "        elif i==len_infected:\n",
    "                i=0\n",
    "                final_infected += nextround\n",
    "                nextround=[]\n",
    "                string_of_all_move=''.join(all_move)\n",
    "                print(string_of_all_move)\n",
    "                round_count+=1\n",
    "        #move to the next round       \n",
    "        if round_count==2:\n",
    "            all_move=movement_list[1]\n",
    "        elif round_count==3:\n",
    "            all_move=movement_list[2]     \n",
    "    return print(final_infected,end=\"\")\n",
    "\n",
    "trace(initial_infected,movement_list)"
   ]
  },
  {
   "cell_type": "code",
   "execution_count": null,
   "metadata": {},
   "outputs": [],
   "source": []
  }
 ],
 "metadata": {
  "kernelspec": {
   "display_name": "Python 3",
   "language": "python",
   "name": "python3"
  },
  "language_info": {
   "codemirror_mode": {
    "name": "ipython",
    "version": 3
   },
   "file_extension": ".py",
   "mimetype": "text/x-python",
   "name": "python",
   "nbconvert_exporter": "python",
   "pygments_lexer": "ipython3",
   "version": "3.7.6"
  }
 },
 "nbformat": 4,
 "nbformat_minor": 4
}
