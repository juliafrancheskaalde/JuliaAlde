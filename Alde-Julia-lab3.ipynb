{
 "cells": [
  {
   "cell_type": "markdown",
   "metadata": {},
   "source": [
    "190172\n",
    "Alde  \n",
    "2 BS ME"
   ]
  },
  {
   "cell_type": "code",
   "execution_count": 2,
   "metadata": {},
   "outputs": [],
   "source": [
    "#PROBLEM 1\n",
    "\n",
    "social_graph = {\"@bongolpoc\":{\"first_name\":\"Joselito\",\n",
    "                  \"last_name\":\"Olpoc\",\n",
    "                  \"following\":[]},\n",
    "    \"@joaquin\":  {\"first_name\":\"Joaquin\",\n",
    "                  \"last_name\":\"Gonzales\",\n",
    "                  \"following\":[\"@chums\",\"@jobenilagan\"]},\n",
    "    \"@chums\" : {\"first_name\":\"Matthew\",\n",
    "                \"last_name\":\"Uy\",\n",
    "                \"following\":[\n",
    "                    \"@bongolpoc\",\"@miketan\",\"@rudyang\",\"@joeilagan\"]},\n",
    "    \"@jobenilagan\":{\"first_name\":\"Joben\",\n",
    "                   \"last_name\":\"Ilagan\",\n",
    "                   \"following\":[\n",
    "                    \"@eeebeee\",\"@joeilagan\",\"@chums\",\"@joaquin\"]},\n",
    "    \"@joeilagan\":{\"first_name\":\"Joe\",\n",
    "                  \"last_name\":\"Ilagan\",\n",
    "                  \"following\":[\n",
    "                    \"@eeebeee\",\"@jobenilagan\",\"@chums\"]},\n",
    "    \"@eeebeee\":  {\"first_name\":\"Elizabeth\",\n",
    "                  \"last_name\":\"Ilagan\",\n",
    "                  \"following\":[\n",
    "                    \"@jobenilagan\",\"@joeilagan\"]},}"
   ]
  },
  {
   "cell_type": "code",
   "execution_count": 31,
   "metadata": {},
   "outputs": [
    {
     "name": "stdout",
     "output_type": "stream",
     "text": [
      "friends\n"
     ]
    }
   ],
   "source": [
    "def relationship_status(from_member,to_member):\n",
    "    to_member_following= social_graph[to_member][\"following\"]\n",
    "    from_member_following= social_graph[from_member][\"following\"]\n",
    "    #from follows to\n",
    "    if (to_member in from_member_following) and (from_member in to_member_following):\n",
    "        print(\"friends\")\n",
    "    elif to_member in from_member_following:\n",
    "        print (\"follows\")\n",
    "    elif from_member in to_member_following:\n",
    "        print(\"followed by\")\n",
    "    \n",
    "relationship_status(\"@joeilagan\",\"@chums\")"
   ]
  },
  {
   "cell_type": "code",
   "execution_count": 52,
   "metadata": {},
   "outputs": [],
   "source": [
    "#PROBLEM 2\n",
    "board1 = [\n",
    "['X','X','O'],\n",
    "['O','X','O'],\n",
    "['O','','X'],\n",
    "]\n",
    "\n",
    "board2 = [\n",
    "['X','X','O'],\n",
    "['O','X','O'],\n",
    "['','O','X'],\n",
    "]\n",
    "\n",
    "board3 = [\n",
    "['O','X','O'],\n",
    "['','O','X'],\n",
    "['X','X','O'],\n",
    "]\n",
    "\n",
    "board4 = [\n",
    "['X','X','X'],\n",
    "['O','X','O'],\n",
    "['O','','O'],\n",
    "]\n",
    "\n",
    "board5 = [\n",
    "['X','X','O'],\n",
    "['O','X','O'],\n",
    "['X','','O'],\n",
    "]\n",
    "\n",
    "board6 = [\n",
    "['X','X','O'],\n",
    "['O','X','O'],\n",
    "['X','',''],\n",
    "]"
   ]
  },
  {
   "cell_type": "code",
   "execution_count": 165,
   "metadata": {},
   "outputs": [
    {
     "name": "stdout",
     "output_type": "stream",
     "text": [
      "X\n"
     ]
    }
   ],
   "source": [
    "def winner(board):\n",
    "    columns= list(i for i in zip(*board)) #take the comma out\n",
    "    rows= list([i for i in board])\n",
    "    upleftlowright= list(board[i][i] for i in range (3))\n",
    "    lowleftupright= list(board[3-1-i][i] for i in range (3))\n",
    "    combine= columns+rows+[upleftlowright]+[lowleftupright]\n",
    "    win_x= [\"X\",\"X\",\"X\"]\n",
    "    win_o= [\"O\",\"O\",\"O\"]\n",
    "    for i in combine:\n",
    "        if i == win_x:\n",
    "            print (\"X\")\n",
    "        elif i== win_o:\n",
    "            print(\"O\")\n",
    "\n",
    "winner(board1)\n"
   ]
  },
  {
   "cell_type": "code",
   "execution_count": 250,
   "metadata": {},
   "outputs": [
    {
     "name": "stdout",
     "output_type": "stream",
     "text": [
      "source: upd\n",
      "destination: dlsu\n"
     ]
    },
    {
     "data": {
      "text/plain": [
       "45"
      ]
     },
     "execution_count": 250,
     "metadata": {},
     "output_type": "execute_result"
    }
   ],
   "source": [
    "#PROBLEM 3\n",
    "\n",
    "travel_times = {(\"upd\",\"admu\"):10,\n",
    "     (\"admu\",\"dlsu\"):35,\n",
    "     (\"dlsu\",\"upd\"):55}\n",
    "\n",
    "\n",
    "def eta(source,destination):\n",
    "    time=[]\n",
    "    #start from admu\n",
    "    if source== \"admu\" and destination==\"dlsu\":\n",
    "        admu_time=travel_times[(\"admu\",\"dlsu\")]\n",
    "        time.append(admu_time)\n",
    "    elif source== \"admu\" and destination== \"upd\":\n",
    "        admu_time=travel_times[(\"admu\",\"dlsu\")]\n",
    "        dlsu_time= travel_times[(\"dlsu\",\"upd\")]\n",
    "        time.append(admu_time)\n",
    "        time.append(dlsu_time)\n",
    "    elif source== \"admu\" and destination== \"admu\":\n",
    "        admu_time=travel_times[(\"admu\",\"dlsu\")]\n",
    "        dlsu_time= travel_times[(\"dlsu\",\"upd\")]\n",
    "        up_time=up_time=travel_times[(\"upd\",\"admu\")]\n",
    "        time.append(admu_time)\n",
    "        time.append(dlsu_time)\n",
    "        time.append(up_time)\n",
    "        \n",
    "    #start from upd\n",
    "    elif source== \"upd\" and destination== \"admu\":\n",
    "        up_time=travel_times[(\"upd\",\"admu\")]\n",
    "        time.append(up_time)\n",
    "    elif source== \"upd\" and destination== \"dlsu\":\n",
    "        up_time=travel_times[(\"upd\",\"admu\")]\n",
    "        admu_time=travel_times[(\"admu\",\"dlsu\")]\n",
    "        time.append(admu_time)\n",
    "        time.append(up_time)\n",
    "    elif source== \"upd\" and destination== \"upd\":\n",
    "        up_time=travel_times[(\"upd\",\"admu\")]\n",
    "        admu_time=travel_times[(\"admu\",\"dlsu\")]\n",
    "        dlsu_time= travel_times[(\"dlsu\",\"upd\")]\n",
    "        time.append(admu_time)\n",
    "        time.append(dlsu_time)\n",
    "        time.append(up_time)\n",
    "        \n",
    "    #start from dlsu\n",
    "    elif source== \"dlsu\"and destination==\"upd\":\n",
    "        dlsu_time= travel_times[(\"dlsu\",\"upd\")]\n",
    "        time.append(dlsu_time)\n",
    "    elif source== \"dlsu\"and destination==\"admu\":\n",
    "        dlsu_time= travel_times[(\"dlsu\",\"upd\")]\n",
    "        up_time=travel_times[(\"upd\",\"admu\")]\n",
    "        time.append(dlsu_time)\n",
    "        time.append(up_time)\n",
    "    elif source== \"dlsu\"and destination==\"dlsu\":\n",
    "        dlsu_time= travel_times[(\"dlsu\",\"upd\")]\n",
    "        up_time=travel_times[(\"upd\",\"admu\")]\n",
    "        admu_time=travel_times[(\"admu\",\"dlsu\")]\n",
    "        time.append(admu_time)\n",
    "        time.append(dlsu_time)\n",
    "        time.append(up_time)\n",
    "    return sum(time)\n",
    "\n",
    "source= input(\"source: \")\n",
    "destination= input(\"destination: \")\n",
    "eta(source, destination)"
   ]
  },
  {
   "cell_type": "code",
   "execution_count": null,
   "metadata": {},
   "outputs": [],
   "source": []
  }
 ],
 "metadata": {
  "kernelspec": {
   "display_name": "Python 3",
   "language": "python",
   "name": "python3"
  },
  "language_info": {
   "codemirror_mode": {
    "name": "ipython",
    "version": 3
   },
   "file_extension": ".py",
   "mimetype": "text/x-python",
   "name": "python",
   "nbconvert_exporter": "python",
   "pygments_lexer": "ipython3",
   "version": "3.7.6"
  }
 },
 "nbformat": 4,
 "nbformat_minor": 4
}
